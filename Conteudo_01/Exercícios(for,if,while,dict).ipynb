{
  "nbformat": 4,
  "nbformat_minor": 0,
  "metadata": {
    "colab": {
      "provenance": [],
      "authorship_tag": "ABX9TyOrTqVdKv6Vdo7pRbLB25VW",
      "include_colab_link": true
    },
    "kernelspec": {
      "name": "python3",
      "display_name": "Python 3"
    }
  },
  "cells": [
    {
      "cell_type": "markdown",
      "metadata": {
        "id": "view-in-github",
        "colab_type": "text"
      },
      "source": [
        "<a href=\"https://colab.research.google.com/github/CharlesPrado23/Bootcamp_TurmaNoite/blob/main/Conteudo_01/Exerc%C3%ADcios(for%2Cif%2Cwhile%2Cdict).ipynb\" target=\"_parent\"><img src=\"https://colab.research.google.com/assets/colab-badge.svg\" alt=\"Open In Colab\"/></a>"
      ]
    },
    {
      "cell_type": "markdown",
      "metadata": {
        "id": "VASoC4nNmAI9"
      },
      "source": [
        "\n",
        "## Exercícios (FOR, IF, WHILE,DICTIONARY) "
      ]
    },
    {
      "cell_type": "markdown",
      "metadata": {
        "id": "ClQPuqarsW9_"
      },
      "source": [
        "1)Passe por todos os números até 99 (começando em 1). Imprima 'fizz' para cada número que é divisível por 7, imprima 'buzz' para cada número divisível por 5 e imprima 'fizzbuzz' para cada número divisível por 7 e 5! Se o número não for divisível por 7 ou 5, imprima um travessão (‘-‘)! \n",
        "\n",
        " Para descubrir se um número x é divisível por y use operador (%): \n",
        "\n",
        "    (x % y) == 0  retorna True se x é divísel por y, False se não for. \n",
        "\n",
        "Dica : use  FOR , IF, ELIF, ELSE \n",
        "   "
      ]
    },
    {
      "cell_type": "markdown",
      "metadata": {
        "id": "pE2jEaxFnsJ8"
      },
      "source": [
        "2) Os filmes/séries podem ser classificados conforme o seu genero (ação,comédia, drama, terror etc). Considerando as classificações abaixo: \n",
        "\n",
        "   a) Ação = Jumanji, Projeto Gemini,The old guard,WandaVision.\n",
        "\n",
        "   b) Comédia = Jumanji,How I Met Your Mother,Friends, Amigos para sempre.\n",
        "\n",
        "   c)  Drama = Amigos para sempre, After,Game of Thrones, WandaVision.\n",
        "\n",
        " Tarefas: \n",
        "\n",
        "   2.1 - Cria uma lista de listas para representar cada um dos conjuntos acima. \n",
        "\n",
        "   2.2 - Usando a lista criada em 2.1, escreva um programa que \"print\" na tela a quantidade de caracteres de cada título.    "
      ]
    },
    {
      "cell_type": "markdown",
      "metadata": {
        "id": "rqdZUmi2vTJt"
      },
      "source": [
        "3) Escreva um programa que calcule o fatorial de um número (entre com o número usando input). Sabendo que: \n",
        "\n",
        "  a) n! = n*(n-1)*(n-2)*...*1 \n",
        "\n",
        "  b) 1! = 1\n",
        "\n",
        "  c) 0! = 1\n",
        "  \n",
        "  Dica: Use While  "
      ]
    },
    {
      "cell_type": "markdown",
      "metadata": {
        "id": "uCYFCuBvsIN8"
      },
      "source": [
        "**4) Desafio**\n",
        "\n",
        "Considerando o problema 2): \n",
        "\n",
        " 4.1) Crie um dicionário no qual cada chave representa o genero do filme; \n",
        "\n",
        " 4.2) Em um sistema de recomendação baseado em conteúdos, deseja-se saber as classificações (generos) de cada filme. Faça um programa que usando o dicionário criado em 4.1, retorne os generos associados a cada filme. (Dica: use um outro dicionário).\n"
      ]
    },
    {
      "cell_type": "code",
      "metadata": {
        "id": "2ALomF0a8AjE"
      },
      "source": [],
      "execution_count": null,
      "outputs": []
    }
  ]
}